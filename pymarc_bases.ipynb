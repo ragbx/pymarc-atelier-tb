{
  "cells": [
    {
      "cell_type": "markdown",
      "source": [
        "# Manipuler des données MARC avec la bibliothèque Python Pymarc\n",
        "\n",
        "Objectif de l'atelier : être en mesur de lire un fichier MARC avec Python et d'en extraire des données.\n",
        "\n",
        "Ce notebook est compatible avec la version 5.0.0 de Pymarc.\n",
        "\n",
        "Pour la documentation, voir https://pymarc.readthedocs.io/en/latest/"
      ],
      "metadata": {
        "id": "qVWtyAl2b5Nq"
      }
    },
    {
      "cell_type": "markdown",
      "metadata": {
        "id": "0Dnfg46Qne7q"
      },
      "source": [
        "## Quelques rappels sur le langage Python"
      ]
    },
    {
      "cell_type": "markdown",
      "metadata": {
        "id": "vDul35W4oRSe"
      },
      "source": [
        "### Structures de données"
      ]
    },
    {
      "cell_type": "markdown",
      "metadata": {
        "id": "8l0XSkWzorAM"
      },
      "source": [
        "#### Listes"
      ]
    },
    {
      "cell_type": "code",
      "execution_count": null,
      "metadata": {
        "id": "THeLxXMUpACs"
      },
      "outputs": [],
      "source": [
        "# création d'une liste vide :\n",
        "ma_liste = []\n",
        "ma_liste"
      ]
    },
    {
      "cell_type": "code",
      "execution_count": null,
      "metadata": {
        "id": "a42H55AFpGA3"
      },
      "outputs": [],
      "source": [
        "# création d'une liste avec deux éléments :\n",
        "ma_liste = ['tata', 'toto']\n",
        "ma_liste"
      ]
    },
    {
      "cell_type": "code",
      "execution_count": null,
      "metadata": {
        "id": "F2BF4-3opSED"
      },
      "outputs": [],
      "source": [
        "# ajout d'un élément\n",
        "ma_liste.append('titi')\n",
        "ma_liste"
      ]
    },
    {
      "cell_type": "code",
      "execution_count": null,
      "metadata": {
        "id": "k7D9_Bi4aZd5"
      },
      "outputs": [],
      "source": [
        "# accès à un élément de la liste (le 2e par exemple)\n",
        "ma_liste[1]"
      ]
    },
    {
      "cell_type": "markdown",
      "metadata": {
        "id": "sTmC5kPTotRu"
      },
      "source": [
        "#### Dictionnaires"
      ]
    },
    {
      "cell_type": "code",
      "execution_count": null,
      "metadata": {
        "id": "-kh7eTrzoQjp"
      },
      "outputs": [],
      "source": [
        "# création d'un dictionnaire vide\n",
        "mon_dict = {}\n",
        "mon_dict"
      ]
    },
    {
      "cell_type": "code",
      "execution_count": null,
      "metadata": {
        "id": "H5LamKlxaZd-"
      },
      "outputs": [],
      "source": [
        "# création d'un dictionnaire avec deux paires clé/valeur :\n",
        "mon_dict = {'tata': 'chien', 'toto': 'chat'}\n",
        "mon_dict"
      ]
    },
    {
      "cell_type": "code",
      "execution_count": null,
      "metadata": {
        "id": "09Cez-1yaZd_"
      },
      "outputs": [],
      "source": [
        "# ajout d'une paire clé/valeur :\n",
        "mon_dict['titi'] = 'canari'\n",
        "mon_dict"
      ]
    },
    {
      "cell_type": "code",
      "execution_count": null,
      "metadata": {
        "id": "BqUkxElkaZeB"
      },
      "outputs": [],
      "source": [
        "# accès à une valeur via une clé\n",
        "mon_dict['tata']"
      ]
    },
    {
      "cell_type": "markdown",
      "metadata": {
        "id": "0jt0K5YIoyQA"
      },
      "source": [
        "### Boucle \"for\""
      ]
    },
    {
      "cell_type": "code",
      "execution_count": null,
      "metadata": {
        "id": "CRMxLKuuaZeD"
      },
      "outputs": [],
      "source": [
        "# elle permet une itération sur une liste par exemple :\n",
        "# NB : attention à l'indentation\n",
        "for a in ma_liste:\n",
        "    print(a)"
      ]
    },
    {
      "cell_type": "markdown",
      "metadata": {
        "id": "1mKL4lb8o7LA"
      },
      "source": [
        "### Condition : \"if\""
      ]
    },
    {
      "cell_type": "code",
      "execution_count": null,
      "metadata": {
        "id": "0BTgTs9AaZeE"
      },
      "outputs": [],
      "source": [
        "# on vérifie qu'une condition est vraie\n",
        "a = 'tata'\n",
        "if a in ma_liste:\n",
        "    print(f\"{a} est dans ma liste.\")\n",
        "else:\n",
        "    print(f\"{a} n'est pas dans ma liste.\")"
      ]
    },
    {
      "cell_type": "markdown",
      "metadata": {
        "id": "WvVHVATgaZeF"
      },
      "source": [
        "## Premiers pas avec Pymarc : lecture d'un fichier de notices"
      ]
    },
    {
      "cell_type": "code",
      "execution_count": null,
      "metadata": {
        "id": "-iav4N9MaZeG"
      },
      "outputs": [],
      "source": [
        "# installation de Pymarc\n",
        "# attention : cette étape ne vaut que pour les notebooks sous Google Colab\n",
        "!pip install pymarc"
      ]
    },
    {
      "cell_type": "code",
      "execution_count": null,
      "metadata": {
        "id": "zFfcY2wNaZeI"
      },
      "outputs": [],
      "source": [
        "# import des données\n",
        "!wget https://raw.githubusercontent.com/ragbx/pymarc-atelier-tb/main/data/notices.mrc"
      ]
    },
    {
      "cell_type": "code",
      "execution_count": 13,
      "metadata": {
        "id": "By9x28bSaZeI"
      },
      "outputs": [],
      "source": [
        "marc_file = 'notices.mrc'"
      ]
    },
    {
      "cell_type": "code",
      "execution_count": 14,
      "metadata": {
        "id": "_sczIfVsaZeJ"
      },
      "outputs": [],
      "source": [
        "# on charge la classe MARCReader\n",
        "from pymarc import MARCReader"
      ]
    },
    {
      "cell_type": "code",
      "execution_count": null,
      "metadata": {
        "id": "SUGo9fILaZeJ"
      },
      "outputs": [],
      "source": [
        "# affichage des notices en format texte\n",
        "with open(marc_file, 'rb') as fh:\n",
        "    reader = MARCReader(fh, to_unicode=True, force_utf8=True)\n",
        "    for record in reader:\n",
        "        print(record)"
      ]
    },
    {
      "cell_type": "code",
      "execution_count": null,
      "metadata": {
        "id": "oviL9Ph0aZeJ"
      },
      "outputs": [],
      "source": [
        "# petite variante : on compte le nombre de notices en même temps\n",
        "i = 0\n",
        "with open(marc_file, 'rb') as fh:\n",
        "    reader = MARCReader(fh, to_unicode=True, force_utf8=True)\n",
        "    for record in reader:\n",
        "        i += 1\n",
        "        print(record)"
      ]
    },
    {
      "cell_type": "code",
      "execution_count": null,
      "metadata": {
        "id": "f2XDcKzIaZeK"
      },
      "outputs": [],
      "source": [
        "print(f\"Nb de notices : {i}\")"
      ]
    },
    {
      "cell_type": "markdown",
      "metadata": {
        "id": "qDY4zCOjaZeK"
      },
      "source": [
        "## Extraire les données de champs et sous-champs"
      ]
    },
    {
      "cell_type": "markdown",
      "metadata": {
        "id": "RVVNJdVFaZeK"
      },
      "source": [
        "### Comprendre le focntionnement de Pymarc"
      ]
    },
    {
      "cell_type": "code",
      "execution_count": null,
      "metadata": {
        "id": "YzKE98XuaZeL"
      },
      "outputs": [],
      "source": [
        "# dans un objet MARCReader, j'ai une ou plusieurs notices, soit un ou plusieurs objets \"record\"\n",
        "records = []\n",
        "with open(marc_file, 'rb') as fh:\n",
        "    reader = MARCReader(fh, to_unicode=True, force_utf8=True)\n",
        "    for record in reader:\n",
        "        records.append(record)\n",
        "# on récupère uniquement la 17e notice du fichier (parce que !)\n",
        "record = records[16]\n",
        "print(record)"
      ]
    },
    {
      "cell_type": "code",
      "execution_count": null,
      "metadata": {
        "id": "cdDkWbBHaZeL"
      },
      "outputs": [],
      "source": [
        "# dans un objet record, on a un label ('leader')...\n",
        "record.leader"
      ]
    },
    {
      "cell_type": "code",
      "execution_count": null,
      "metadata": {
        "id": "oZIR7X3LaZeM"
      },
      "outputs": [],
      "source": [
        "# ... et des champs ('fields')\n",
        "fields = record.fields\n",
        "for field in fields:\n",
        "    print(field)"
      ]
    },
    {
      "cell_type": "code",
      "execution_count": null,
      "metadata": {
        "id": "lR86ElM7aZeM"
      },
      "outputs": [],
      "source": [
        "# dans les objets \"field\", on a des sous-champs ('subfields')\n",
        "for subfield in field.subfields :\n",
        "    print(subfield)"
      ]
    },
    {
      "cell_type": "code",
      "execution_count": null,
      "metadata": {
        "id": "3vOEQUx7aZeN"
      },
      "outputs": [],
      "source": [
        "# ... sous-champs auquel on peut aussi accéder de la sorte :\n",
        "# dans les objets \"field\", on a des sous-champs ('subfields')\n",
        "for subfield in field.subfields :\n",
        "    print(f\"${subfield.code} : {subfield.value}\")"
      ]
    },
    {
      "cell_type": "markdown",
      "metadata": {
        "id": "KRP4toD9aZeN"
      },
      "source": [
        "### Sélectionner des champs, sous-champs"
      ]
    },
    {
      "cell_type": "markdown",
      "metadata": {
        "id": "d1yVACU_aZeO"
      },
      "source": [
        "#### Exemple : extraire un titre"
      ]
    },
    {
      "cell_type": "markdown",
      "metadata": {
        "id": "jwxTDpX1aZeO"
      },
      "source": [
        "##### Méthode get_fields()"
      ]
    },
    {
      "cell_type": "code",
      "execution_count": null,
      "metadata": {
        "id": "8uLX7PZqaZeP"
      },
      "outputs": [],
      "source": [
        "# si je veux selectionner un champ ('field') selon une zone ('tag') unimarc :\n",
        "fields = record.get_fields('200')\n",
        "for field in fields:\n",
        "    print(field)"
      ]
    },
    {
      "cell_type": "markdown",
      "metadata": {
        "id": "CycyvSBHaZeP"
      },
      "source": [
        "##### Méthode get_subfields()"
      ]
    },
    {
      "cell_type": "code",
      "execution_count": null,
      "metadata": {
        "id": "lFeZhcwyaZeP"
      },
      "outputs": [],
      "source": [
        "# si je veux selectionner un souschamp ('field') selon une zone ('tag') unimarc :\n",
        "fields = record.get_fields('200')\n",
        "for field in fields:\n",
        "    subfields_a = field.get_subfields('a')\n",
        "    print(subfields_a)\n",
        "    subfields_e = field.get_subfields('e')\n",
        "    print(subfields_e)"
      ]
    },
    {
      "cell_type": "code",
      "execution_count": null,
      "metadata": {
        "id": "GxsctxzDaZeQ"
      },
      "outputs": [],
      "source": [
        "fields = record.get_fields('200')\n",
        "for field in fields:\n",
        "    values = []\n",
        "    for s in ['a', 'e']:\n",
        "        for v in field.get_subfields(s):\n",
        "            values.append(v)\n",
        "value = \" | \".join(values)\n",
        "print(value)"
      ]
    },
    {
      "cell_type": "markdown",
      "metadata": {
        "id": "_l58es47aZeQ"
      },
      "source": [
        "#### Exemple 2 : sujets"
      ]
    },
    {
      "cell_type": "code",
      "execution_count": null,
      "metadata": {
        "id": "o2ACz49DaZeR"
      },
      "outputs": [],
      "source": [
        "fields = record.get_fields('606')\n",
        "for field in fields:\n",
        "    values = []\n",
        "    for s in ['a', 'x', 'y']:\n",
        "        for v in field.get_subfields(s):\n",
        "            values.append(v)\n",
        "    value = \" | \".join(values)\n",
        "    print(value)"
      ]
    },
    {
      "cell_type": "markdown",
      "metadata": {
        "id": "jrAwYYYsaZeS"
      },
      "source": [
        "##### un petit problème....\n",
        "get_subfields() ne prend pas les champs dans l'ordre de leur apparition"
      ]
    },
    {
      "cell_type": "code",
      "execution_count": null,
      "metadata": {
        "id": "FEvb8pC4aZeS"
      },
      "outputs": [],
      "source": [
        "fields = record.get_fields('606')\n",
        "for field in fields:\n",
        "    values = []\n",
        "    for s in ['3', 'a', 'x', 'y']:\n",
        "        for v in field.get_subfields(s):\n",
        "            values.append(v)\n",
        "    value = \" | \".join(values)\n",
        "    print(value)"
      ]
    },
    {
      "cell_type": "markdown",
      "metadata": {
        "id": "pzcFCMNvaZeS"
      },
      "source": [
        "##### une solution...\n",
        "passer directement par les attributs code et value de subfield"
      ]
    },
    {
      "cell_type": "code",
      "execution_count": null,
      "metadata": {
        "id": "fU0hERhdaZeS"
      },
      "outputs": [],
      "source": [
        "fields = record.get_fields('606')\n",
        "for field in fields:\n",
        "    values = []\n",
        "    if hasattr(field, \"subfields\"):\n",
        "        for subfield in field.subfields:\n",
        "            if subfield.code in ['3', 'a', 'x', 'y']:\n",
        "                values.append(subfield.value)\n",
        "    value = \" | \".join(values)\n",
        "    print(value)"
      ]
    },
    {
      "cell_type": "markdown",
      "metadata": {
        "id": "8j6z8RLAaZeT"
      },
      "source": [
        "#### Construire une fonction \"couteau suisse\"\n",
        "Syntaxe un peu pénible.\n",
        "Le plus simple est de se construire une fonction qui à part d'étiquettes de champs et d'un ou plusieurs sous champs extrait les valeurs"
      ]
    },
    {
      "cell_type": "code",
      "execution_count": 29,
      "metadata": {
        "id": "EVMxW9w8aZeT"
      },
      "outputs": [],
      "source": [
        "def get_marc_values(record, tags):\n",
        "    result = []\n",
        "    for tag in tags:\n",
        "        # cas du label\n",
        "        if tag == 'LDR':\n",
        "            result.append(record.leader)\n",
        "        else:\n",
        "            fields = record.get_fields(tag[:3])\n",
        "            for field in fields:\n",
        "                field_value = []\n",
        "                # cas du controlfield\n",
        "                if tag[:2] == '00':\n",
        "                    field_value.append(field.data)\n",
        "                # cas du datafield\n",
        "                else:\n",
        "                    if hasattr(field, \"subfields\"):\n",
        "                        for subfield in field.subfields:\n",
        "                            if subfield.code in tag[3:]:\n",
        "                                field_value.append(subfield.value)\n",
        "                result.append(\" \".join(field_value))\n",
        "    return \" ; \".join(result)\n"
      ]
    },
    {
      "cell_type": "code",
      "execution_count": null,
      "metadata": {
        "id": "KTBa1DvZaZeT"
      },
      "outputs": [],
      "source": [
        "#exemple d'utilisation, en reprenant le cas précédent\n",
        "get_marc_values(record, ['606axy'])\n"
      ]
    },
    {
      "cell_type": "markdown",
      "metadata": {
        "id": "oR_5m5TQaZeU"
      },
      "source": [
        "## Transformer un fichier marc en tableau excel"
      ]
    },
    {
      "cell_type": "markdown",
      "metadata": {
        "id": "1a5oDITTaZeU"
      },
      "source": [
        "### On crée une fonction pour chaque colonne souhaitée"
      ]
    },
    {
      "cell_type": "code",
      "execution_count": 31,
      "metadata": {
        "id": "o3eLBbLFaZeV"
      },
      "outputs": [],
      "source": [
        "def get_type_notice(record):\n",
        "    result = get_marc_values(record, [\"LDR\"])\n",
        "    result = result[6]\n",
        "    type_notice_codes = {\n",
        "        \"a\": \"texte\",\n",
        "        \"b\": \"manuscrit\",\n",
        "        \"c\": \"partition\",\n",
        "        \"d\": \"partition manuscrite\",\n",
        "        \"e\": \"carte\",\n",
        "        \"f\": \"carte manuscrite\",\n",
        "        \"g\": \"video\",\n",
        "        \"i\": \"son - non musical\",\n",
        "        \"j\": \"son - musique\",\n",
        "        \"k\": \"image, dessin\",\n",
        "        \"l\": \"ressource électronique\",\n",
        "        \"m\": \"multimedia\",\n",
        "        \"r\": \"objet\"\n",
        "    }\n",
        "    if result in type_notice_codes.keys():\n",
        "        result = type_notice_codes[result]\n",
        "    return result\n",
        "\n",
        "def get_niveau_bib(record):\n",
        "    result = get_marc_values(record, [\"LDR\"])\n",
        "    result = result[7]\n",
        "    niveau_bib_codes = {\n",
        "        \"a\": \"analytique\",\n",
        "        \"i\": \"ressource intégratrice\",\n",
        "        \"m\": \"monographie\",\n",
        "        \"s\": \"périodique\",\n",
        "        \"c\": \"collection\"\n",
        "    }\n",
        "    if result in niveau_bib_codes.keys():\n",
        "        result = niveau_bib_codes[result]\n",
        "    return result\n",
        "\n",
        "def get_record_id(record):\n",
        "    result = get_marc_values(record, [\"001\"])\n",
        "    return result\n",
        "\n",
        "def get_isbn(record):\n",
        "    result = get_marc_values(record, [\"010a\"])\n",
        "    return result\n",
        "\n",
        "def get_ark(record):\n",
        "    result = get_marc_values(record, [\"033a\"])\n",
        "    return result\n",
        "\n",
        "def get_alignement_bnf(metadata):\n",
        "    result = False\n",
        "    if 'ark:/12148' in metadata['ark']:\n",
        "        result = True\n",
        "    return result\n",
        "\n",
        "def get_frbnf(record):\n",
        "    result = ''\n",
        "    data = get_marc_values(record, [\"035a\"])\n",
        "    if 'FRBNF' in data:\n",
        "        result = data\n",
        "    return result\n",
        "\n",
        "def get_refcom(record):\n",
        "    result = get_marc_values(record, [\"071ba\"])\n",
        "    return result\n",
        "\n",
        "def get_ean(record):\n",
        "    result = get_marc_values(record, [\"073a\"])\n",
        "    return result\n",
        "\n",
        "def get_support(record):\n",
        "    result = get_marc_values(record, [\"099t\"])\n",
        "    support_codes = {\n",
        "            'AP': 'périodique - article',\n",
        "            'CA': 'carte routière',\n",
        "            'CR': 'cd-rom',\n",
        "            'DC': 'disque compact',\n",
        "            'DG': 'disque gomme-laque',\n",
        "            'DV': 'disque microsillon',\n",
        "            'IC': 'document iconographique',\n",
        "            'JE': 'jeu',\n",
        "            'K7': 'cassette audio',\n",
        "            'LG': 'livre en gros caractères',\n",
        "            'LI': 'livre',\n",
        "            'LN': 'livre numérique',\n",
        "            'LS': 'livre audio',\n",
        "            'ML': 'méthode de langue',\n",
        "            'MT': 'matériel',\n",
        "            'PA': 'partition',\n",
        "            'PE': 'périodique',\n",
        "            'VD': 'dvd',\n",
        "            'VI': 'vhs, umatic ou film'\n",
        "        }\n",
        "    if result in support_codes.keys():\n",
        "        result = support_codes[result]\n",
        "    return result\n",
        "\n",
        "def get_global_title(record):\n",
        "    result = get_marc_values(record, [\"225a\"])\n",
        "    if result == '':\n",
        "        result = get_marc_values(record, [\"200ae\"])\n",
        "    return result\n",
        "\n",
        "def get_title(record, global_titre=None):\n",
        "    if global_titre:\n",
        "        result = get_marc_values(record, [\"200a\"])\n",
        "        result2 = get_marc_values(record, [\"200ae\"])\n",
        "        if (result == global_titre) | (result2 == global_titre):\n",
        "            result = get_marc_values(record, [\"200i\"])\n",
        "    else:\n",
        "        result = get_marc_values(record, [\"200ae\"])\n",
        "    return result\n",
        "\n",
        "\n",
        "def get_numero_tome(record):\n",
        "    result = get_marc_values(record, [\"200h\"])\n",
        "    if result == '':\n",
        "        result = get_marc_values(record, [\"461v\"])\n",
        "    return result\n",
        "\n",
        "def get_responsability(record):\n",
        "    result = get_marc_values(record, [\"700ab\", \"710ab\", \"701ab\", \"711ab\", \"702ab\", \"712ab\"])\n",
        "    if result == '':\n",
        "        get_marc_values(record, [\"200f\"])\n",
        "    return result\n",
        "\n",
        "def get_subject(record):\n",
        "    result = get_marc_values(record, [\"600abcdefghijklmnopqrstuvwxyz\",\n",
        "                                    \"601abcdefghijklmnopqrstuvwxyz\",\n",
        "                                    \"602abcdefghijklmnopqrstuvwxyz\",\n",
        "                                    \"604abcdefghijklmnopqrstuvwxyz\",\n",
        "                                    \"605abcdefghijklmnopqrstuvwxyz\",\n",
        "                                    \"606abcdefghijklmnopqrstuvwxyz\",\n",
        "                                    \"607abcdefghijklmnopqrstuvwxyz\",\n",
        "                                    \"608abcdefghijklmnopqrstuvwxyz\",\n",
        "                                    \"609abcdefghijklmnopqrstuvwxyz\"])\n",
        "    return result\n",
        "\n",
        "def get_publication_date(record):\n",
        "    result = get_marc_values(record, [\"100a\"])\n",
        "    result = result[9:13]\n",
        "    if result == '':\n",
        "        result = get_marc_values(record, [\"214d\"])\n",
        "    if result == '':\n",
        "        result = get_marc_values(record, [\"210d\"])\n",
        "    if result == '':\n",
        "        result = get_marc_values(record, [\"219d\"])\n",
        "    return result\n",
        "\n",
        "def get_publisher(record):\n",
        "    result = get_marc_values(record, [\"214c\"])\n",
        "    if result == '':\n",
        "        result = get_marc_values(record, [\"210c\"])\n",
        "    if result == '':\n",
        "        result = get_marc_values(record, [\"219c\"])\n",
        "    return result\n",
        "\n",
        "def get_publication_place(record):\n",
        "    result = get_marc_values(record, [\"214a\"])\n",
        "    if result == '':\n",
        "        result = get_marc_values(record, [\"210a\"])\n",
        "    if result == '':\n",
        "        result = get_marc_values(record, [\"219a\"])\n",
        "    return result\n",
        "\n",
        "def get_nb_items(record):\n",
        "    fields = record.get_fields('995')\n",
        "    return len(fields)"
      ]
    },
    {
      "cell_type": "markdown",
      "source": [
        "### On exécute ces fonctions sur l'ensemble des notices du fichier\n",
        "On obtient une liste de dictionnaires."
      ],
      "metadata": {
        "id": "Ub8tfIP9dIXE"
      }
    },
    {
      "cell_type": "code",
      "execution_count": null,
      "metadata": {
        "id": "spLiEwGfaZeW"
      },
      "outputs": [],
      "source": [
        "metadatas = []\n",
        "with open(marc_file, 'rb') as fh:\n",
        "    reader = MARCReader(fh, to_unicode=True, force_utf8=True)\n",
        "    for record in reader:\n",
        "        metadata = {}\n",
        "        metadata['type_notice'] = get_type_notice(record)\n",
        "        metadata['niveau_bib'] = get_niveau_bib(record)\n",
        "        metadata['record_id'] = get_record_id(record)\n",
        "        metadata['isbn'] = get_isbn(record)\n",
        "        metadata['ark'] = get_ark(record)\n",
        "        metadata['frbnf'] = get_frbnf(record)\n",
        "        metadata['refcom'] = get_refcom(record)\n",
        "        metadata['ean'] = get_ean(record)\n",
        "        metadata['support'] = get_support(record)\n",
        "        metadata['publication_date'] =  get_publication_date(record)\n",
        "        metadata['global_title'] = get_global_title(record)\n",
        "        metadata['title'] = get_title(record, global_titre=metadata['global_title'])\n",
        "        metadata['numero_tome'] = get_numero_tome(record)\n",
        "        metadata['responsability'] = get_responsability(record)\n",
        "        metadata['subject'] = get_subject(record)\n",
        "        metadata['publisher'] = get_publisher(record)\n",
        "        metadata['alignement_bnf'] = get_alignement_bnf(metadata)\n",
        "        metadata['nb_items'] = get_nb_items(record)\n",
        "        metadatas.append(metadata)\n",
        "\n",
        "metadatas"
      ]
    },
    {
      "cell_type": "markdown",
      "source": [
        "### Export en excel\n",
        "On transforme la liste de dictionnaires en Dataframe Pandas, qu'il est ensuite facile d'exporter en excel."
      ],
      "metadata": {
        "id": "8zxC_MWHdY2c"
      }
    },
    {
      "cell_type": "code",
      "execution_count": 33,
      "metadata": {
        "id": "O017aqRWaZeX"
      },
      "outputs": [],
      "source": [
        "import pandas as pd\n",
        "\n",
        "metadatas_df = pd.DataFrame.from_records(metadatas)\n",
        "metadatas_df.to_excel(\"notices.xlsx\", index=False)"
      ]
    }
  ],
  "metadata": {
    "colab": {
      "provenance": []
    },
    "kernelspec": {
      "display_name": "Python 3 (ipykernel)",
      "language": "python",
      "name": "python3"
    },
    "language_info": {
      "codemirror_mode": {
        "name": "ipython",
        "version": 3
      },
      "file_extension": ".py",
      "mimetype": "text/x-python",
      "name": "python",
      "nbconvert_exporter": "python",
      "pygments_lexer": "ipython3",
      "version": "3.8.2"
    }
  },
  "nbformat": 4,
  "nbformat_minor": 0
}